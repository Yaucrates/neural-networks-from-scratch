{
 "cells": [
  {
   "cell_type": "code",
   "execution_count": null,
   "id": "1bc27c90-c028-4fbd-a990-b25f8b9e4ac5",
   "metadata": {},
   "outputs": [],
   "source": [
    "%matplotlib inline\n",
    "\n",
    "import numpy as np\n",
    "from mnistdata import MnistData"
   ]
  },
  {
   "cell_type": "code",
   "execution_count": null,
   "id": "1ab18a96-e768-4f3f-b5da-5a935b0275d1",
   "metadata": {},
   "outputs": [],
   "source": [
    "class NeuralNetwork:    \n",
    "    def __init__(self, sizes):\n",
    "        self.layer_count = len(sizes)\n",
    "        self.sizes = sizes\n",
    "        self.biases = [np.zeros((y, 1)) for y in sizes[1:]]\n",
    "        self.weights = [np.zeros((y, x)) for x, y in zip(sizes[:-1], sizes[1:])]\n",
    "\n",
    "    def activation_function(self, z):\n",
    "        return np.where(z <= 0, 0, 1)\n",
    "    \n",
    "    def feed_forward(self, a):\n",
    "        for i in range(self.layer_count - 1):\n",
    "            z = self.weights[i] @ a + self.biases[i]\n",
    "            a = self.activation_function(z)\n",
    "\n",
    "        return a\n",
    "\n",
    "    def evaluate(self, test_data):\n",
    "        # TODO CHAPTER 1:\n",
    "        correct = 0\n",
    "        for input_data, label in test_data:\n",
    "            if self.feed_forward(input_data).argmax() == label.argmax():\n",
    "                correct += 1\n",
    "\n",
    "        return correct"
   ]
  },
  {
   "cell_type": "code",
   "execution_count": null,
   "id": "369cb581-08f2-47c2-8ff6-98f7c96f101e",
   "metadata": {},
   "outputs": [],
   "source": [
    "def main():\n",
    "    # Raw Data\n",
    "    raw_training = MnistData('../mnist-data/train-images.idx3-ubyte', '../mnist-data/train-labels.idx1-ubyte')\n",
    "    raw_testing = MnistData('../mnist-data/t10k-images.idx3-ubyte', '../mnist-data/t10k-labels.idx1-ubyte')\n",
    "\n",
    "    # Processed Data\n",
    "    training = raw_training.get_data()\n",
    "    testing = raw_testing.get_data()\n",
    "\n",
    "    digit_classifier = NeuralNetwork([raw_training.img_rows * raw_training.img_cols, 15, 15, raw_training.DIGIT_COUNT])\n",
    "\n",
    "    accuracy = digit_classifier.evaluate(testing)\n",
    "    print(f'Final Accuracy: {accuracy} / {len(testing)}')\n",
    "\n",
    "main()"
   ]
  }
 ],
 "metadata": {
  "kernelspec": {
   "display_name": "Python [conda env:miniconda3]",
   "language": "python",
   "name": "conda-env-miniconda3-py"
  },
  "language_info": {
   "codemirror_mode": {
    "name": "ipython",
    "version": 3
   },
   "file_extension": ".py",
   "mimetype": "text/x-python",
   "name": "python",
   "nbconvert_exporter": "python",
   "pygments_lexer": "ipython3",
   "version": "3.12.2"
  }
 },
 "nbformat": 4,
 "nbformat_minor": 5
}
