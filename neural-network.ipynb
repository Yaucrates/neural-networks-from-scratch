{
 "cells": [
  {
   "cell_type": "code",
   "execution_count": null,
   "id": "1bc27c90-c028-4fbd-a990-b25f8b9e4ac5",
   "metadata": {},
   "outputs": [],
   "source": [
    "%matplotlib inline\n",
    "\n",
    "import numpy as np\n",
    "from solutions.mnistdata import MnistData"
   ]
  },
  {
   "cell_type": "code",
   "execution_count": null,
   "id": "1ab18a96-e768-4f3f-b5da-5a935b0275d1",
   "metadata": {},
   "outputs": [],
   "source": [
    "class NeuralNetwork:    \n",
    "    def __init__(self, sizes):\n",
    "        pass\n",
    "\n",
    "    def activation_function(self, z):\n",
    "        pass\n",
    "    \n",
    "    def feed_forward(self, a):\n",
    "        pass\n",
    "\n",
    "    def evaluate(self, test_data):\n",
    "        pass"
   ]
  },
  {
   "cell_type": "code",
   "execution_count": null,
   "id": "369cb581-08f2-47c2-8ff6-98f7c96f101e",
   "metadata": {},
   "outputs": [],
   "source": [
    "def main():\n",
    "    # Raw Data\n",
    "    raw_training = MnistData('mnist-data/train-images.idx3-ubyte', 'mnist-data/train-labels.idx1-ubyte')\n",
    "    raw_testing = MnistData('mnist-data/t10k-images.idx3-ubyte', 'mnist-data/t10k-labels.idx1-ubyte')\n",
    "\n",
    "    # Processed Data\n",
    "    training = raw_training.get_data()\n",
    "    testing = raw_testing.get_data()\n",
    "\n",
    "    digit_classifier = NeuralNetwork([raw_training.img_rows * raw_training.img_cols, 15, 15, raw_training.DIGIT_COUNT])\n",
    "\n",
    "    accuracy = digit_classifier.evaluate(testing)\n",
    "    if accuracy:\n",
    "        print(f'Final Accuracy: {accuracy} / {len(testing)}')\n",
    "\n",
    "main()"
   ]
  },
  {
   "cell_type": "code",
   "execution_count": null,
   "id": "db32adbd-818f-41e9-952b-d2885c30e0a1",
   "metadata": {},
   "outputs": [],
   "source": []
  }
 ],
 "metadata": {
  "kernelspec": {
   "display_name": "Python [conda env:miniconda3]",
   "language": "python",
   "name": "conda-env-miniconda3-py"
  },
  "language_info": {
   "codemirror_mode": {
    "name": "ipython",
    "version": 3
   },
   "file_extension": ".py",
   "mimetype": "text/x-python",
   "name": "python",
   "nbconvert_exporter": "python",
   "pygments_lexer": "ipython3",
   "version": "3.12.2"
  }
 },
 "nbformat": 4,
 "nbformat_minor": 5
}
